{
 "cells": [
  {
   "cell_type": "code",
   "execution_count": 2,
   "id": "2c0d4f10",
   "metadata": {},
   "outputs": [],
   "source": [
    "import os"
   ]
  },
  {
   "cell_type": "code",
   "execution_count": 5,
   "id": "7f7ee0e7",
   "metadata": {},
   "outputs": [
    {
     "data": {
      "text/plain": [
       "['.idea',\n",
       " '.ipynb_checkpoints',\n",
       " 'main.py',\n",
       " 'Untitled.ipynb',\n",
       " 'user7_Msgs_File_1(sorted).csv',\n",
       " 'user7_Msgs_File_1.csv',\n",
       " 'user7_Msgs_File_2(sorted).csv',\n",
       " 'user7_Msgs_File_2.csv',\n",
       " 'user7_Msgs_File_3(sorted).csv',\n",
       " 'user7_Msgs_File_3.csv',\n",
       " 'user7_Msgs_File_4(sorted).csv',\n",
       " 'user7_Msgs_File_4.csv',\n",
       " 'user7_Msgs_File_5(sorted).csv',\n",
       " 'user7_Msgs_File_5.csv',\n",
       " 'venv']"
      ]
     },
     "execution_count": 5,
     "metadata": {},
     "output_type": "execute_result"
    }
   ],
   "source": [
    "os.listdir()"
   ]
  },
  {
   "cell_type": "code",
   "execution_count": 7,
   "id": "6269e2b6",
   "metadata": {},
   "outputs": [],
   "source": [
    "import pandas"
   ]
  },
  {
   "cell_type": "code",
   "execution_count": 10,
   "id": "e6e81768",
   "metadata": {},
   "outputs": [],
   "source": [
    "df = pandas.read_csv(\"user7_Msgs_File_1.csv\")"
   ]
  },
  {
   "cell_type": "code",
   "execution_count": 11,
   "id": "3596800a",
   "metadata": {},
   "outputs": [
    {
     "data": {
      "text/html": [
       "<div>\n",
       "<style scoped>\n",
       "    .dataframe tbody tr th:only-of-type {\n",
       "        vertical-align: middle;\n",
       "    }\n",
       "\n",
       "    .dataframe tbody tr th {\n",
       "        vertical-align: top;\n",
       "    }\n",
       "\n",
       "    .dataframe thead th {\n",
       "        text-align: right;\n",
       "    }\n",
       "</style>\n",
       "<table border=\"1\" class=\"dataframe\">\n",
       "  <thead>\n",
       "    <tr style=\"text-align: right;\">\n",
       "      <th></th>\n",
       "      <th>Topic_id</th>\n",
       "      <th>Topic</th>\n",
       "      <th>Text</th>\n",
       "    </tr>\n",
       "  </thead>\n",
       "  <tbody>\n",
       "    <tr>\n",
       "      <th>0</th>\n",
       "      <td>NaN</td>\n",
       "      <td>NaN</td>\n",
       "      <td>Je, Lige watoa huduma wa afya walikuwa wasikiv...</td>\n",
       "    </tr>\n",
       "    <tr>\n",
       "      <th>1</th>\n",
       "      <td>NaN</td>\n",
       "      <td>NaN</td>\n",
       "      <td>usenge wenu saw!!</td>\n",
       "    </tr>\n",
       "    <tr>\n",
       "      <th>2</th>\n",
       "      <td>NaN</td>\n",
       "      <td>NaN</td>\n",
       "      <td>Asante sana Lige. Nitaongea na wewe tena, kupa...</td>\n",
       "    </tr>\n",
       "    <tr>\n",
       "      <th>3</th>\n",
       "      <td>NaN</td>\n",
       "      <td>NaN</td>\n",
       "      <td>tafadhali naweza kuuliza swali kuhusu u-report</td>\n",
       "    </tr>\n",
       "    <tr>\n",
       "      <th>4</th>\n",
       "      <td>NaN</td>\n",
       "      <td>NaN</td>\n",
       "      <td>wanaotaka kuanzisha mradi wa kilimo cha mwani ...</td>\n",
       "    </tr>\n",
       "    <tr>\n",
       "      <th>...</th>\n",
       "      <td>...</td>\n",
       "      <td>...</td>\n",
       "      <td>...</td>\n",
       "    </tr>\n",
       "    <tr>\n",
       "      <th>495</th>\n",
       "      <td>NaN</td>\n",
       "      <td>NaN</td>\n",
       "      <td>MAMA, 8, 1032275</td>\n",
       "    </tr>\n",
       "    <tr>\n",
       "      <th>496</th>\n",
       "      <td>NaN</td>\n",
       "      <td>NaN</td>\n",
       "      <td>Asante sana TATU, sasa nitakuhoji jinsi matemb...</td>\n",
       "    </tr>\n",
       "    <tr>\n",
       "      <th>497</th>\n",
       "      <td>NaN</td>\n",
       "      <td>NaN</td>\n",
       "      <td>Asante sana MARIA, sasa nitakuhoji jinsi matem...</td>\n",
       "    </tr>\n",
       "    <tr>\n",
       "      <th>498</th>\n",
       "      <td>NaN</td>\n",
       "      <td>NaN</td>\n",
       "      <td>Asante sana TUNDONDEGE, sasa nitakuhoji jinsi ...</td>\n",
       "    </tr>\n",
       "    <tr>\n",
       "      <th>499</th>\n",
       "      <td>NaN</td>\n",
       "      <td>NaN</td>\n",
       "      <td>Asante sana BAITA, sasa nitakuhoji jinsi matem...</td>\n",
       "    </tr>\n",
       "  </tbody>\n",
       "</table>\n",
       "<p>500 rows × 3 columns</p>\n",
       "</div>"
      ],
      "text/plain": [
       "     Topic_id  Topic                                               Text\n",
       "0         NaN    NaN  Je, Lige watoa huduma wa afya walikuwa wasikiv...\n",
       "1         NaN    NaN                                  usenge wenu saw!!\n",
       "2         NaN    NaN  Asante sana Lige. Nitaongea na wewe tena, kupa...\n",
       "3         NaN    NaN     tafadhali naweza kuuliza swali kuhusu u-report\n",
       "4         NaN    NaN  wanaotaka kuanzisha mradi wa kilimo cha mwani ...\n",
       "..        ...    ...                                                ...\n",
       "495       NaN    NaN                                   MAMA, 8, 1032275\n",
       "496       NaN    NaN  Asante sana TATU, sasa nitakuhoji jinsi matemb...\n",
       "497       NaN    NaN  Asante sana MARIA, sasa nitakuhoji jinsi matem...\n",
       "498       NaN    NaN  Asante sana TUNDONDEGE, sasa nitakuhoji jinsi ...\n",
       "499       NaN    NaN  Asante sana BAITA, sasa nitakuhoji jinsi matem...\n",
       "\n",
       "[500 rows x 3 columns]"
      ]
     },
     "execution_count": 11,
     "metadata": {},
     "output_type": "execute_result"
    }
   ],
   "source": [
    "df"
   ]
  }
 ],
 "metadata": {
  "kernelspec": {
   "display_name": "Python 3 (ipykernel)",
   "language": "python",
   "name": "python3"
  },
  "language_info": {
   "codemirror_mode": {
    "name": "ipython",
    "version": 3
   },
   "file_extension": ".py",
   "mimetype": "text/x-python",
   "name": "python",
   "nbconvert_exporter": "python",
   "pygments_lexer": "ipython3",
   "version": "3.9.6"
  }
 },
 "nbformat": 4,
 "nbformat_minor": 5
}
